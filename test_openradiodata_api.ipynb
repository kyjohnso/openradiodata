{
 "cells": [
  {
   "cell_type": "code",
   "execution_count": null,
   "id": "first-debut",
   "metadata": {},
   "outputs": [],
   "source": [
    "import requests\n",
    "from flask import json"
   ]
  },
  {
   "cell_type": "code",
   "execution_count": null,
   "id": "competitive-crowd",
   "metadata": {},
   "outputs": [],
   "source": [
    "post = requests.post(\n",
    "    'http://127.0.0.1:5000/api/test',\n",
    "    json = {\n",
    "#         \"String\":\"test_string\",\n",
    "        \"Float\":123.456,\n",
    "    }\n",
    ")\n",
    "print(post.content)"
   ]
  },
  {
   "cell_type": "code",
   "execution_count": null,
   "id": "colonial-vaccine",
   "metadata": {},
   "outputs": [],
   "source": [
    "get = requests.get(\n",
    "    'http://127.0.0.1:5000/api/test',\n",
    ")\n",
    "print(json.loads(get.content))"
   ]
  },
  {
   "cell_type": "code",
   "execution_count": null,
   "id": "fuzzy-yield",
   "metadata": {},
   "outputs": [],
   "source": []
  }
 ],
 "metadata": {
  "kernelspec": {
   "display_name": "Python 3",
   "language": "python",
   "name": "python3"
  },
  "language_info": {
   "codemirror_mode": {
    "name": "ipython",
    "version": 3
   },
   "file_extension": ".py",
   "mimetype": "text/x-python",
   "name": "python",
   "nbconvert_exporter": "python",
   "pygments_lexer": "ipython3",
   "version": "3.8.6"
  }
 },
 "nbformat": 4,
 "nbformat_minor": 5
}
